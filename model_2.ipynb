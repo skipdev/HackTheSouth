{
  "nbformat": 4,
  "nbformat_minor": 0,
  "metadata": {
    "colab": {
      "name": "model_2.ipynb",
      "version": "0.3.2",
      "provenance": [],
      "collapsed_sections": []
    },
    "kernelspec": {
      "name": "python3",
      "display_name": "Python 3"
    },
    "accelerator": "GPU"
  },
  "cells": [
    {
      "metadata": {
        "id": "fEQxlIrHQ-AJ",
        "colab_type": "code",
        "colab": {
          "base_uri": "https://localhost:8080/",
          "height": 34
        },
        "outputId": "ed4db73e-6f63-4726-d08e-841995bea3b9"
      },
      "cell_type": "code",
      "source": [
        "import keras as K\n",
        "import numpy as np\n",
        "from keras.datasets import mnist\n",
        "import matplotlib.pyplot as plt"
      ],
      "execution_count": 2,
      "outputs": [
        {
          "output_type": "stream",
          "text": [
            "Using TensorFlow backend.\n"
          ],
          "name": "stderr"
        }
      ]
    },
    {
      "metadata": {
        "id": "So6l4hkzRDhu",
        "colab_type": "code",
        "colab": {
          "base_uri": "https://localhost:8080/",
          "height": 364
        },
        "outputId": "a0724993-4f83-4f19-a2f2-2c2148dd60ef"
      },
      "cell_type": "code",
      "source": [
        "(x_train, y_train), (x_test, y_test) = mnist.load_data()\n",
        "y_train = K.utils.to_categorical(y_train)\n",
        "y_test = K.utils.to_categorical(y_test)\n",
        "x_train = x_train.reshape(60000, 28, 28, 1)\n",
        "x_test = x_test.reshape(10000, 28, 28, 1)\n",
        "plt.imshow(np.squeeze(x_train[0]))"
      ],
      "execution_count": 3,
      "outputs": [
        {
          "output_type": "execute_result",
          "data": {
            "text/plain": [
              "<matplotlib.image.AxesImage at 0x7fa6ecaaa588>"
            ]
          },
          "metadata": {
            "tags": []
          },
          "execution_count": 3
        },
        {
          "output_type": "display_data",
          "data": {
            "image/png": "[encoded data removed]",
            "text/plain": [
              "<Figure size 576x396 with 1 Axes>"
            ]
          },
          "metadata": {
            "tags": []
          }
        }
      ]
    },
    {
      "metadata": {
        "id": "52BGUN_FeXmP",
        "colab_type": "code",
        "colab": {}
      },
      "cell_type": "code",
      "source": [
        ""
      ],
      "execution_count": 0,
      "outputs": []
    },
    {
      "metadata": {
        "id": "AERQYYLDR6hl",
        "colab_type": "code",
        "colab": {
          "base_uri": "https://localhost:8080/",
          "height": 87
        },
        "outputId": "8980596a-364e-4526-fd7d-0bdfd81ae78a"
      },
      "cell_type": "code",
      "source": [
        "nn= K.Sequential()\n",
        "nn.add(K.layers.Conv2D(128, kernel_size=7, activation='relu', input_shape=(28,28,1)))\n",
        "nn.add(K.layers.Conv2D(64, kernel_size=6, activation='relu'))\n",
        "nn.add(K.layers.Conv2D(128, kernel_size=3, activation='relu'))\n",
        "nn.add(K.layers.Conv2D(64, kernel_size=2, activation='relu'))\n",
        "nn.add(K.layers.Conv2D(128, kernel_size=2, activation='relu'))\n",
        "nn.add(K.layers.Conv2D(64, kernel_size=2, activation='relu'))\n",
        "nn.add(K.layers.Flatten())\n",
        "nn.add(K.layers.Dense(103))\n",
        "nn.add(K.layers.Activation('relu'))\n",
        "nn.add(K.layers.Dense(75))\n",
        "nn.add(K.layers.Activation('relu'))\n",
        "nn.add(K.layers.Dense(49))\n",
        "nn.add(K.layers.Activation('relu'))\n",
        "nn.add(K.layers.Dense(21))\n",
        "nn.add(K.layers.Activation('relu'))\n",
        "nn.add(K.layers.Dense(10))\n",
        "nn.add(K.layers.Activation('softmax'))"
      ],
      "execution_count": 4,
      "outputs": [
        {
          "output_type": "stream",
          "text": [
            "WARNING:tensorflow:From /usr/local/lib/python3.6/dist-packages/tensorflow/python/framework/op_def_library.py:263: colocate_with (from tensorflow.python.framework.ops) is deprecated and will be removed in a future version.\n",
            "Instructions for updating:\n",
            "Colocations handled automatically by placer.\n"
          ],
          "name": "stdout"
        }
      ]
    },
    {
      "metadata": {
        "id": "DKXXp_W3Tybm",
        "colab_type": "code",
        "colab": {}
      },
      "cell_type": "code",
      "source": [
        "nn.compile(loss='categorical_crossentropy', metrics=['accuracy'], optimizer=K.optimizers.Adam(lr=0.001, decay=0.3))"
      ],
      "execution_count": 0,
      "outputs": []
    },
    {
      "metadata": {
        "id": "SQFgRGwAeuuW",
        "colab_type": "code",
        "colab": {}
      },
      "cell_type": "code",
      "source": [
        ""
      ],
      "execution_count": 0,
      "outputs": []
    },
    {
      "metadata": {
        "id": "p63SUhZ4Ws8D",
        "colab_type": "code",
        "colab": {
          "base_uri": "https://localhost:8080/",
          "height": 457
        },
        "outputId": "ee084fe9-1a64-496e-8279-cb4adee40785"
      },
      "cell_type": "code",
      "source": [
        "nn.fit(x_train, y_train, validation_data=(x_test, y_test), epochs=10, verbose=2)"
      ],
      "execution_count": 6,
      "outputs": [
        {
          "output_type": "stream",
          "text": [
            "WARNING:tensorflow:From /usr/local/lib/python3.6/dist-packages/tensorflow/python/ops/math_ops.py:3066: to_int32 (from tensorflow.python.ops.math_ops) is deprecated and will be removed in a future version.\n",
            "Instructions for updating:\n",
            "Use tf.cast instead.\n",
            "Train on 60000 samples, validate on 10000 samples\n",
            "Epoch 1/10\n",
            " - 45s - loss: 0.5046 - acc: 0.8564 - val_loss: 0.3320 - val_acc: 0.9124\n",
            "Epoch 2/10\n",
            " - 43s - loss: 0.3137 - acc: 0.9154 - val_loss: 0.2847 - val_acc: 0.9253\n",
            "Epoch 3/10\n",
            " - 43s - loss: 0.2790 - acc: 0.9245 - val_loss: 0.2625 - val_acc: 0.9300\n",
            "Epoch 4/10\n",
            " - 43s - loss: 0.2603 - acc: 0.9296 - val_loss: 0.2478 - val_acc: 0.9338\n",
            "Epoch 5/10\n",
            " - 43s - loss: 0.2475 - acc: 0.9335 - val_loss: 0.2374 - val_acc: 0.9370\n",
            "Epoch 6/10\n",
            " - 43s - loss: 0.2384 - acc: 0.9362 - val_loss: 0.2293 - val_acc: 0.9397\n",
            "Epoch 7/10\n",
            " - 43s - loss: 0.2312 - acc: 0.9381 - val_loss: 0.2241 - val_acc: 0.9410\n",
            "Epoch 8/10\n",
            " - 43s - loss: 0.2255 - acc: 0.9399 - val_loss: 0.2179 - val_acc: 0.9434\n",
            "Epoch 9/10\n",
            " - 43s - loss: 0.2206 - acc: 0.9410 - val_loss: 0.2141 - val_acc: 0.9445\n",
            "Epoch 10/10\n",
            " - 43s - loss: 0.2165 - acc: 0.9423 - val_loss: 0.2103 - val_acc: 0.9462\n"
          ],
          "name": "stdout"
        },
        {
          "output_type": "execute_result",
          "data": {
            "text/plain": [
              "<keras.callbacks.History at 0x7fa6ecad3240>"
            ]
          },
          "metadata": {
            "tags": []
          },
          "execution_count": 6
        }
      ]
    },
    {
      "metadata": {
        "id": "pWBJbuPYbid_",
        "colab_type": "code",
        "colab": {
          "base_uri": "https://localhost:8080/",
          "height": 218
        },
        "outputId": "ec7004ad-e601-4a62-d8e6-3abccb5e1cad"
      },
      "cell_type": "code",
      "source": [
        "nn.predict(x_test[:4])"
      ],
      "execution_count": 8,
      "outputs": [
        {
          "output_type": "execute_result",
          "data": {
            "text/plain": [
              "array([[1.7219983e-07, 1.0798070e-06, 5.8422453e-04, 2.1495635e-04,\n",
              "        5.7165579e-09, 9.2758805e-09, 3.3480148e-08, 9.9918157e-01,\n",
              "        3.2073319e-07, 1.7635559e-05],\n",
              "       [1.1145615e-06, 2.1149211e-04, 9.6728021e-01, 2.1767842e-02,\n",
              "        5.1927123e-05, 3.2044674e-04, 1.0265210e-02, 7.0410415e-08,\n",
              "        1.0136467e-04, 1.9995380e-07],\n",
              "       [1.1701460e-04, 9.9376655e-01, 2.8799224e-04, 2.3517247e-05,\n",
              "        8.0745140e-06, 1.1879063e-03, 9.5130335e-06, 1.9396355e-03,\n",
              "        2.1081138e-03, 5.5159145e-04],\n",
              "       [9.9719429e-01, 1.5681403e-03, 4.0108029e-07, 6.6417080e-08,\n",
              "        8.4098462e-09, 6.4788509e-08, 9.7675183e-07, 1.0974179e-04,\n",
              "        1.1106252e-03, 1.5564932e-05]], dtype=float32)"
            ]
          },
          "metadata": {
            "tags": []
          },
          "execution_count": 8
        }
      ]
    },
    {
      "metadata": {
        "id": "-pbnXkTImymP",
        "colab_type": "code",
        "colab": {
          "base_uri": "https://localhost:8080/",
          "height": 84
        },
        "outputId": "7cc001b5-76d2-4b28-9b34-ece0c1eebee4"
      },
      "cell_type": "code",
      "source": [
        "y_test[:4]"
      ],
      "execution_count": 9,
      "outputs": [
        {
          "output_type": "execute_result",
          "data": {
            "text/plain": [
              "array([[0., 0., 0., 0., 0., 0., 0., 1., 0., 0.],\n",
              "       [0., 0., 1., 0., 0., 0., 0., 0., 0., 0.],\n",
              "       [0., 1., 0., 0., 0., 0., 0., 0., 0., 0.],\n",
              "       [1., 0., 0., 0., 0., 0., 0., 0., 0., 0.]], dtype=float32)"
            ]
          },
          "metadata": {
            "tags": []
          },
          "execution_count": 9
        }
      ]
    }
  ]
}